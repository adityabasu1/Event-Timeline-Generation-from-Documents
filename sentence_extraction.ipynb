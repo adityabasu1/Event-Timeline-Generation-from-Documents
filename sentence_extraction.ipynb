{
 "cells": [
  {
   "cell_type": "code",
   "execution_count": 1,
   "metadata": {},
   "outputs": [],
   "source": [
    "import csv\n",
    "import pandas as pd\n",
    "import os\n",
    "from nltk.tokenize import sent_tokenize"
   ]
  },
  {
   "cell_type": "code",
   "execution_count": 2,
   "metadata": {},
   "outputs": [],
   "source": [
    "csv_file = pd.read_csv('letters_sent_by_mg.csv')"
   ]
  },
  {
   "cell_type": "code",
   "execution_count": 31,
   "metadata": {},
   "outputs": [],
   "source": [
    "file_list = csv_file.loc[(csv_file.year == 1931) & (csv_file.receiver_personality != 'NARANDAS GANDHI'), 'file_name'].tolist()"
   ]
  },
  {
   "cell_type": "code",
   "execution_count": 32,
   "metadata": {},
   "outputs": [
    {
     "data": {
      "text/html": [
       "<div>\n",
       "<style scoped>\n",
       "    .dataframe tbody tr th:only-of-type {\n",
       "        vertical-align: middle;\n",
       "    }\n",
       "\n",
       "    .dataframe tbody tr th {\n",
       "        vertical-align: top;\n",
       "    }\n",
       "\n",
       "    .dataframe thead th {\n",
       "        text-align: right;\n",
       "    }\n",
       "</style>\n",
       "<table border=\"1\" class=\"dataframe\">\n",
       "  <thead>\n",
       "    <tr style=\"text-align: right;\">\n",
       "      <th></th>\n",
       "      <th>Unnamed: 0</th>\n",
       "      <th>file_name</th>\n",
       "      <th>month</th>\n",
       "      <th>day</th>\n",
       "      <th>year</th>\n",
       "      <th>receiver_personality</th>\n",
       "    </tr>\n",
       "  </thead>\n",
       "  <tbody>\n",
       "    <tr>\n",
       "      <th>0</th>\n",
       "      <td>0</td>\n",
       "      <td>volume93_book_168.txt</td>\n",
       "      <td>March</td>\n",
       "      <td>17.0</td>\n",
       "      <td>1937.0</td>\n",
       "      <td>DR. GOPICHAND BHARGAVA</td>\n",
       "    </tr>\n",
       "    <tr>\n",
       "      <th>1</th>\n",
       "      <td>1</td>\n",
       "      <td>volume37_book_181.txt</td>\n",
       "      <td>August</td>\n",
       "      <td>7.0</td>\n",
       "      <td>1928.0</td>\n",
       "      <td>MIRABEHN</td>\n",
       "    </tr>\n",
       "    <tr>\n",
       "      <th>2</th>\n",
       "      <td>2</td>\n",
       "      <td>volume82_book_355.txt</td>\n",
       "      <td>December</td>\n",
       "      <td>22.0</td>\n",
       "      <td>1945.0</td>\n",
       "      <td>SHARAYU DHOTRE</td>\n",
       "    </tr>\n",
       "    <tr>\n",
       "      <th>3</th>\n",
       "      <td>3</td>\n",
       "      <td>volume38_book_489.txt</td>\n",
       "      <td>January</td>\n",
       "      <td>27.0</td>\n",
       "      <td>1929.0</td>\n",
       "      <td>PERIN CAPTAIN</td>\n",
       "    </tr>\n",
       "    <tr>\n",
       "      <th>4</th>\n",
       "      <td>4</td>\n",
       "      <td>volume76_book_262.txt</td>\n",
       "      <td>June</td>\n",
       "      <td>14.0</td>\n",
       "      <td>1942.0</td>\n",
       "      <td>C. RAJAGOPALACHARI</td>\n",
       "    </tr>\n",
       "    <tr>\n",
       "      <th>...</th>\n",
       "      <td>...</td>\n",
       "      <td>...</td>\n",
       "      <td>...</td>\n",
       "      <td>...</td>\n",
       "      <td>...</td>\n",
       "      <td>...</td>\n",
       "    </tr>\n",
       "    <tr>\n",
       "      <th>28526</th>\n",
       "      <td>28526</td>\n",
       "      <td>volume93_book_330.txt</td>\n",
       "      <td>October</td>\n",
       "      <td>1.0</td>\n",
       "      <td>1938.0</td>\n",
       "      <td>PYARELAL</td>\n",
       "    </tr>\n",
       "    <tr>\n",
       "      <th>28527</th>\n",
       "      <td>28527</td>\n",
       "      <td>volume43_book_305.txt</td>\n",
       "      <td>April</td>\n",
       "      <td>23.0</td>\n",
       "      <td>1930.0</td>\n",
       "      <td>BRIJKRISHNA CHANDIWALA</td>\n",
       "    </tr>\n",
       "    <tr>\n",
       "      <th>28528</th>\n",
       "      <td>28528</td>\n",
       "      <td>volume35_book_42.txt</td>\n",
       "      <td>September</td>\n",
       "      <td>30.0</td>\n",
       "      <td>1927.0</td>\n",
       "      <td>RAMDAS GANDHI</td>\n",
       "    </tr>\n",
       "    <tr>\n",
       "      <th>28529</th>\n",
       "      <td>28529</td>\n",
       "      <td>volume6_book_206.txt</td>\n",
       "      <td>November</td>\n",
       "      <td>17.0</td>\n",
       "      <td>1906.0</td>\n",
       "      <td>G. J. ADAM</td>\n",
       "    </tr>\n",
       "    <tr>\n",
       "      <th>28530</th>\n",
       "      <td>28530</td>\n",
       "      <td>volume36_book_125.txt</td>\n",
       "      <td>March</td>\n",
       "      <td>16.0</td>\n",
       "      <td>1928.0</td>\n",
       "      <td>MADHUSUDAN DAS</td>\n",
       "    </tr>\n",
       "  </tbody>\n",
       "</table>\n",
       "<p>28531 rows × 6 columns</p>\n",
       "</div>"
      ],
      "text/plain": [
       "       Unnamed: 0              file_name      month   day    year  \\\n",
       "0               0  volume93_book_168.txt      March  17.0  1937.0   \n",
       "1               1  volume37_book_181.txt     August   7.0  1928.0   \n",
       "2               2  volume82_book_355.txt   December  22.0  1945.0   \n",
       "3               3  volume38_book_489.txt    January  27.0  1929.0   \n",
       "4               4  volume76_book_262.txt       June  14.0  1942.0   \n",
       "...           ...                    ...        ...   ...     ...   \n",
       "28526       28526  volume93_book_330.txt    October   1.0  1938.0   \n",
       "28527       28527  volume43_book_305.txt      April  23.0  1930.0   \n",
       "28528       28528   volume35_book_42.txt  September  30.0  1927.0   \n",
       "28529       28529   volume6_book_206.txt   November  17.0  1906.0   \n",
       "28530       28530  volume36_book_125.txt      March  16.0  1928.0   \n",
       "\n",
       "         receiver_personality  \n",
       "0      DR. GOPICHAND BHARGAVA  \n",
       "1                    MIRABEHN  \n",
       "2              SHARAYU DHOTRE  \n",
       "3               PERIN CAPTAIN  \n",
       "4          C. RAJAGOPALACHARI  \n",
       "...                       ...  \n",
       "28526                PYARELAL  \n",
       "28527  BRIJKRISHNA CHANDIWALA  \n",
       "28528           RAMDAS GANDHI  \n",
       "28529              G. J. ADAM  \n",
       "28530          MADHUSUDAN DAS  \n",
       "\n",
       "[28531 rows x 6 columns]"
      ]
     },
     "execution_count": 32,
     "metadata": {},
     "output_type": "execute_result"
    }
   ],
   "source": [
    "csv_file"
   ]
  },
  {
   "cell_type": "markdown",
   "metadata": {},
   "source": [
    "# This is for extracting letters from CWMG data"
   ]
  },
  {
   "cell_type": "code",
   "execution_count": 35,
   "metadata": {},
   "outputs": [],
   "source": [
    "significant_letters = []\n",
    "for file in file_list:\n",
    "    with open(str(os.path.join('text_files_combined', file)), 'r', encoding=\"utf8\") as content:\n",
    "        raw_data = content.read()\n",
    "        if len(raw_data.split()) >= 500:\n",
    "            significant_letters.append([file, raw_data])"
   ]
  },
  {
   "cell_type": "code",
   "execution_count": 36,
   "metadata": {},
   "outputs": [
    {
     "data": {
      "text/plain": [
       "34"
      ]
     },
     "execution_count": 36,
     "metadata": {},
     "output_type": "execute_result"
    }
   ],
   "source": [
    "len(significant_letters)"
   ]
  },
  {
   "cell_type": "code",
   "execution_count": 39,
   "metadata": {},
   "outputs": [
    {
     "data": {
      "text/plain": [
       "'volume47_book_93.txt'"
      ]
     },
     "execution_count": 39,
     "metadata": {},
     "output_type": "execute_result"
    }
   ],
   "source": [
    "index = 33\n",
    "significant_letters[index][0]"
   ]
  },
  {
   "cell_type": "markdown",
   "metadata": {},
   "source": [
    "# For Abraham Lincoln data"
   ]
  },
  {
   "cell_type": "code",
   "execution_count": 2,
   "metadata": {},
   "outputs": [],
   "source": [
    "# raw_text = significant_letters[index][1]\n",
    "# significant_letters[index][1]\n",
    "\n",
    "with open('data/abraham_lincoln/file_volume3.txt', 'r') as content:\n",
    "    raw_text = content.read()"
   ]
  },
  {
   "cell_type": "code",
   "execution_count": 3,
   "metadata": {},
   "outputs": [],
   "source": [
    "sentences = sent_tokenize(raw_text)\n",
    "# sentences = filter(lambda word: word not in '.', sentences)\n",
    "sentences = [item for item in sentences[1:] if len(item.split()) > 3]\n",
    "sentences = [item.replace('-\\n', '') for item in sentences]\n",
    "sentences = [item.replace('\\n', ' ') for item in sentences]"
   ]
  },
  {
   "cell_type": "code",
   "execution_count": 4,
   "metadata": {},
   "outputs": [],
   "source": [
    "\n",
    "with open('sentence.csv', 'w', encoding='utf-8') as file:\n",
    "    for line in sentences:\n",
    "#         writer.writerow(line)\n",
    "        file.write(line)\n",
    "        file.write('\\n')"
   ]
  }
 ],
 "metadata": {
  "kernelspec": {
   "display_name": "Python 3",
   "language": "python",
   "name": "python3"
  },
  "language_info": {
   "codemirror_mode": {
    "name": "ipython",
    "version": 3
   },
   "file_extension": ".py",
   "mimetype": "text/x-python",
   "name": "python",
   "nbconvert_exporter": "python",
   "pygments_lexer": "ipython3",
   "version": "3.7.4"
  }
 },
 "nbformat": 4,
 "nbformat_minor": 4
}
